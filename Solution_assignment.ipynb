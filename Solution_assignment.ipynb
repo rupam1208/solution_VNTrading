{
 "cells": [
  {
   "cell_type": "code",
   "execution_count": 1,
   "id": "1005a899-d366-4745-977b-006a54e4862d",
   "metadata": {},
   "outputs": [],
   "source": [
    "%matplotlib widget"
   ]
  },
  {
   "cell_type": "code",
   "execution_count": 2,
   "id": "511ab8a5-05dd-4005-870e-adbd525788e8",
   "metadata": {},
   "outputs": [],
   "source": [
    "import warnings\n",
    "warnings.filterwarnings('ignore', category=DeprecationWarning)\n",
    "\n",
    "from IPython.core.interactiveshell import InteractiveShell\n",
    "InteractiveShell.ast_node_interactivity = \"all\""
   ]
  },
  {
   "cell_type": "code",
   "execution_count": 3,
   "id": "974ea279-e7e7-4b6a-ad7c-5c6f4321ca74",
   "metadata": {},
   "outputs": [],
   "source": [
    "import matplotlib as mpl\n",
    "import numpy as np\n",
    "import matplotlib.pyplot as plt\n",
    "import pandas as pd\n",
    "import os\n",
    "import scipy as sp\n",
    "import databento as db \n",
    "import zstandard as zstd\n",
    "from databento import DBNStore\n",
    "import math\n",
    "import matplotlib.animation as animation # for animation\n",
    "import pyarrow.parquet as pq\n",
    "import time\n",
    "from collections import defaultdict\n",
    "from IPython.display import HTML"
   ]
  },
  {
   "cell_type": "code",
   "execution_count": null,
   "id": "2ad5efdc-be70-4f58-aaf2-54be74f6ada4",
   "metadata": {},
   "outputs": [],
   "source": []
  }
 ],
 "metadata": {
  "kernelspec": {
   "display_name": "Python 3 (ipykernel)",
   "language": "python",
   "name": "python3"
  },
  "language_info": {
   "codemirror_mode": {
    "name": "ipython",
    "version": 3
   },
   "file_extension": ".py",
   "mimetype": "text/x-python",
   "name": "python",
   "nbconvert_exporter": "python",
   "pygments_lexer": "ipython3",
   "version": "3.12.2"
  }
 },
 "nbformat": 4,
 "nbformat_minor": 5
}
